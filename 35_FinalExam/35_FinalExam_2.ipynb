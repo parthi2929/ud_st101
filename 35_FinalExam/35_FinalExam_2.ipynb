{
 "cells": [
  {
   "cell_type": "markdown",
   "metadata": {},
   "source": [
    "## Question 10 \n",
    "\n",
    "What is the z score? \n",
    "\n",
    "$$\n",
    "\\mu = 100, \\ \\ \\sigma = 15, \\ \\ X = 130 \\\\\n",
    "Z = \\dfrac{X - \\mu}{\\sigma} = 2\n",
    "$$"
   ]
  },
  {
   "cell_type": "markdown",
   "metadata": {},
   "source": [
    "## Question 11\n",
    "\n",
    "What is the distribution of distance from initial to final position?\n",
    "\n",
    "![image.png](https://i.postimg.cc/Y9r4Zydx/image.png)"
   ]
  },
  {
   "cell_type": "markdown",
   "metadata": {},
   "source": [
    "$$\n",
    "E(X - Y) = E(X) - E(Y) = 10 - 5 = 5 \\\\\n",
    "Var(X-Y) = Var(X) + Var(Y) = \\sigma_X^2 + \\sigma_Y^2 = 1^2 + (0.5)^2 \\\\\n",
    "\\sigma_{X-Y} = \\sqrt{Var(X-Y)} = 1.12\n",
    "$$"
   ]
  },
  {
   "cell_type": "code",
   "execution_count": 4,
   "metadata": {
    "ExecuteTime": {
     "end_time": "2018-11-26T11:54:29.829725Z",
     "start_time": "2018-11-26T11:54:29.823742Z"
    }
   },
   "outputs": [
    {
     "data": {
      "text/plain": [
       "1.118033988749895"
      ]
     },
     "execution_count": 4,
     "metadata": {},
     "output_type": "execute_result"
    }
   ],
   "source": [
    "from math import sqrt\n",
    "s_r = sqrt(1**2 + 0.5**2)\n",
    "s_r"
   ]
  },
  {
   "cell_type": "markdown",
   "metadata": {},
   "source": [
    "## Question 12\n",
    "\n",
    "![image.png](https://i.postimg.cc/gj414rnD/image.png)\n",
    "\n",
    "\n",
    "**Ans**:  \n",
    "\n",
    "$$\n",
    "E(aX) = aE(X) = 2.54(70) = 177.8 \\\\\n",
    "Var(aX) = a^2Var(X) = (2.54)^2(25) = 161.29 \\\\\n",
    "$$"
   ]
  },
  {
   "cell_type": "code",
   "execution_count": 5,
   "metadata": {
    "ExecuteTime": {
     "end_time": "2018-11-26T11:57:37.245232Z",
     "start_time": "2018-11-26T11:57:37.239236Z"
    }
   },
   "outputs": [
    {
     "data": {
      "text/plain": [
       "(177.8, 161.29)"
      ]
     },
     "execution_count": 5,
     "metadata": {},
     "output_type": "execute_result"
    }
   ],
   "source": [
    "m = 2.54*70\n",
    "v = ((2.54)**2)*25\n",
    "m,v"
   ]
  },
  {
   "cell_type": "markdown",
   "metadata": {},
   "source": [
    "## Question 13\n",
    "\n",
    "Note carefully. They are asking **CI for the probability**. \n",
    "\n",
    "![image.png](https://i.postimg.cc/Jh5WnjXT/image.png)\n",
    "\n",
    "For a single Bernoulli trial, we could thus have an estimate as below from the 10000 trials. \n",
    "\n",
    "$$\n",
    "\\hat{p} = \\dfrac{4950}{10000} = 0.4950 \\\\\n",
    "\\overline{x} = \\hat{p} = 0.4950 \\\\\n",
    "s = \\sqrt{pq} = \\sqrt{(0.495)(1-0.495)} = 0.4999\n",
    "$$"
   ]
  },
  {
   "cell_type": "code",
   "execution_count": 47,
   "metadata": {
    "ExecuteTime": {
     "end_time": "2018-11-26T13:29:20.395770Z",
     "start_time": "2018-11-26T13:29:20.388774Z"
    }
   },
   "outputs": [
    {
     "data": {
      "text/plain": [
       "0.49997499937496875"
      ]
     },
     "execution_count": 47,
     "metadata": {},
     "output_type": "execute_result"
    }
   ],
   "source": [
    "p = 4950/10000\n",
    "m = p\n",
    "s = sqrt( 0.4950*(1-0.495)  )\n",
    "s"
   ]
  },
  {
   "cell_type": "markdown",
   "metadata": {},
   "source": [
    "### Calculating Critical Value $z_{\\frac{\\alpha}{2}}$\n",
    "\n",
    "If confidence level is 90\\%, then significance level $\\alpha$ is 10\\%, thus respective Z value would be 1.645"
   ]
  },
  {
   "cell_type": "code",
   "execution_count": 8,
   "metadata": {
    "ExecuteTime": {
     "end_time": "2018-11-26T12:09:08.412375Z",
     "start_time": "2018-11-26T12:09:07.781644Z"
    }
   },
   "outputs": [
    {
     "name": "stdout",
     "output_type": "stream",
     "text": [
      "1.645\n"
     ]
    }
   ],
   "source": [
    "def get_z(cl):\n",
    "    #NOTE:returns right tailed area as that is mostly used in CI\n",
    "    from scipy import stats\n",
    "    alpha = round((1 - cl)/2,3)\n",
    "    return (-1)*round(stats.norm.ppf(alpha),3)  # right tailing..\n",
    "\n",
    "cl = 0.90\n",
    "print(get_z(cl))"
   ]
  },
  {
   "cell_type": "markdown",
   "metadata": {},
   "source": [
    "### Calculating CI\n",
    "\n",
    "Since we are repeating for $n=10000$ trials, we expect a sampling distribution as below. Calculating CI for the same, \n",
    "\n",
    "$$\\begin{aligned}\n",
    "CI \n",
    "&= \\overline{x} \\pm z_{\\frac{\\alpha}{2}}\\dfrac{s}{\\sqrt{n}} \\\\\n",
    "&= 0.4950 \\pm 1.645\\dfrac{0.4999}{\\sqrt{10000}} \\\\\n",
    "&= 0.4950 \\pm 1.645(0.004999) \\\\\n",
    "&= (0.4867, 0.5032)\n",
    "\\end{aligned}$$"
   ]
  },
  {
   "cell_type": "code",
   "execution_count": 50,
   "metadata": {
    "ExecuteTime": {
     "end_time": "2018-11-26T13:37:07.922342Z",
     "start_time": "2018-11-26T13:37:07.916343Z"
    }
   },
   "outputs": [
    {
     "data": {
      "text/plain": [
       "(0.486776645, 0.503223355)"
      ]
     },
     "execution_count": 50,
     "metadata": {},
     "output_type": "execute_result"
    }
   ],
   "source": [
    "0.4950 - 1.645*0.004999, 0.4950 + 1.645*0.004999"
   ]
  },
  {
   "cell_type": "code",
   "execution_count": 46,
   "metadata": {
    "ExecuteTime": {
     "end_time": "2018-11-26T13:25:12.574729Z",
     "start_time": "2018-11-26T13:25:12.325874Z"
    },
    "hide_input": true,
    "scrolled": true
   },
   "outputs": [
    {
     "data": {
      "image/png": "[encoded data removed]",
      "text/plain": [
       "<matplotlib.figure.Figure at 0x158e09ab128>"
      ]
     },
     "metadata": {
      "needs_background": "light"
     },
     "output_type": "display_data"
    }
   ],
   "source": [
    "%matplotlib inline\n",
    "import matplotlib.pyplot as plt\n",
    "# from normalviz import draw_normal\n",
    "import numpy as np\n",
    "import matplotlib.mlab as mlab\n",
    "import math\n",
    "def draw_normal(ax, mu, sigma, cond=''):\n",
    "    \"\"\"\n",
    "    cond: to shade the area meeting the condition\n",
    "    \"\"\"\n",
    "    xstart = mu - 4*sigma\n",
    "    xend = mu + 4*sigma\n",
    "    x = np.linspace(xstart, xend, 100)\n",
    "    y = mlab.normpdf(x, mu, sigma)\n",
    "    ax.plot(x,y, color='black')\n",
    "    \n",
    "    # shade area satisfying the condition\n",
    "    w = x[eval(cond)] if cond != '' else x\n",
    "    w_shade = mlab.normpdf(w, mu, sigma)\n",
    "    ax.fill_between(w, 0, w_shade)\n",
    "    \n",
    "    # set x axis in multiples of sigma\n",
    "    x_ticks = []\n",
    "    for step in range(-4,5): # 4 sigma on right, 4 on left, mu on middle\n",
    "        x_tick = round(mu + (step)*sigma,2)\n",
    "        x_ticks.append(x_tick)        \n",
    "    ax.xaxis.set_ticks(x_ticks)\n",
    "    ax.grid(True,  linestyle='--',alpha=0.5)\n",
    "    \n",
    "    ax.set_ylim(ymin=0) \n",
    "\n",
    "mu = 0.4950\n",
    "sigma = 0.004999\n",
    "\n",
    "\n",
    "# plot\n",
    "fig, ax = plt.subplots(1,1, figsize=(7,4))\n",
    "draw_normal(ax, mu, sigma, 'x<0.4867')  \n",
    "draw_normal(ax, mu, sigma, 'x>0.5032')  \n",
    "ax.set_xlabel('No of flips')\n",
    "ax.set_ylabel('Probability that they are heads')\n",
    "plt.show()"
   ]
  },
  {
   "cell_type": "markdown",
   "metadata": {},
   "source": [
    "## Question 14\n",
    "\n",
    "![image.png](https://i.postimg.cc/Jhn91S1h/image.png)"
   ]
  },
  {
   "cell_type": "code",
   "execution_count": 52,
   "metadata": {
    "ExecuteTime": {
     "end_time": "2018-11-26T13:43:27.653744Z",
     "start_time": "2018-11-26T13:43:27.642736Z"
    }
   },
   "outputs": [
    {
     "data": {
      "text/plain": [
       "(0.719, 0.048259714048054625)"
      ]
     },
     "execution_count": 52,
     "metadata": {},
     "output_type": "execute_result"
    }
   ],
   "source": [
    "x = [0.79,0.70,0.73,0.66,0.65,0.70,0.74,0.81,0.71,0.70]\n",
    "\n",
    "n = len(x)\n",
    "xb = sum(x)/n\n",
    "v = sum([ (i - xb)**2 for i in x ] )/n\n",
    "s =sqrt(v)\n",
    "xb, s"
   ]
  },
  {
   "cell_type": "code",
   "execution_count": 53,
   "metadata": {
    "ExecuteTime": {
     "end_time": "2018-11-26T13:44:07.009529Z",
     "start_time": "2018-11-26T13:44:07.003532Z"
    }
   },
   "outputs": [
    {
     "data": {
      "text/plain": [
       "(0.6890883193384256, 0.7489116806615743)"
      ]
     },
     "execution_count": 53,
     "metadata": {},
     "output_type": "execute_result"
    }
   ],
   "source": [
    "se = 1.96*(s/sqrt(n))\n",
    "xb - se, xb + se"
   ]
  },
  {
   "cell_type": "markdown",
   "metadata": {},
   "source": [
    "## Question 15\n",
    "\n",
    "Calculate slope and y-intercept for given data. \n",
    "\n",
    "![image.png](https://i.postimg.cc/VvqtHYHZ/image.png)"
   ]
  },
  {
   "cell_type": "code",
   "execution_count": 54,
   "metadata": {
    "ExecuteTime": {
     "end_time": "2018-11-26T13:46:47.930462Z",
     "start_time": "2018-11-26T13:46:47.914459Z"
    }
   },
   "outputs": [
    {
     "data": {
      "text/plain": [
       "(0.33333333333333326, 1.0)"
      ]
     },
     "execution_count": 54,
     "metadata": {},
     "output_type": "execute_result"
    }
   ],
   "source": [
    "x = [0,1,2]\n",
    "y = [0,2,2]\n",
    "\n",
    "\n",
    "# means\n",
    "n = len(x)  # also could use len(Y) as its pairs\n",
    "x_b, y_b = sum(x)/n, sum(y)/n\n",
    "\n",
    "b_1 = sum([(i[0] - x_b)*(i[1] - y_b) for i in zip(x,y)])/ sum([(i - x_b)**2 for i in x])\n",
    "b_0 = y_b - b_1*x_b\n",
    "\n",
    "b_0, b_1"
   ]
  },
  {
   "cell_type": "markdown",
   "metadata": {},
   "source": [
    "## Question 16\n",
    "\n",
    "Rank the $r$ from 1 to 4\n",
    "\n",
    "![image](https://i.postimg.cc/FzHvwpPt/image.png)"
   ]
  }
 ],
 "metadata": {
  "kernelspec": {
   "display_name": "Python [conda env:Anaconda3]",
   "language": "python",
   "name": "conda-env-Anaconda3-py"
  },
  "language_info": {
   "codemirror_mode": {
    "name": "ipython",
    "version": 3
   },
   "file_extension": ".py",
   "mimetype": "text/x-python",
   "name": "python",
   "nbconvert_exporter": "python",
   "pygments_lexer": "ipython3",
   "version": "3.6.4"
  },
  "toc": {
   "base_numbering": 1,
   "nav_menu": {},
   "number_sections": true,
   "sideBar": true,
   "skip_h1_title": false,
   "title_cell": "Table of Contents",
   "title_sidebar": "Contents",
   "toc_cell": false,
   "toc_position": {},
   "toc_section_display": true,
   "toc_window_display": false
  }
 },
 "nbformat": 4,
 "nbformat_minor": 2
}
