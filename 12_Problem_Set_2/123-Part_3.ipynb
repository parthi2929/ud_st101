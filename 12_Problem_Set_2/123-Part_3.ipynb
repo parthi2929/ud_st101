{
 "cells": [
  {
   "cell_type": "markdown",
   "metadata": {},
   "source": [
    "# Many Flips - Ctd\n",
    "\n",
    "### Is it Fair 2"
   ]
  },
  {
   "cell_type": "code",
   "execution_count": 11,
   "metadata": {
    "hide_input": true,
    "tags": [
     "to_remove"
    ]
   },
   "outputs": [
    {
     "data": {
      "image/jpeg": "[encoded data removed]",
      "text/html": [
       "\n",
       "        <iframe\n",
       "            width=\"400\"\n",
       "            height=\"300\"\n",
       "            src=\"https://www.youtube.com/embed/Nq1p7MdxlBU\"\n",
       "            frameborder=\"0\"\n",
       "            allowfullscreen\n",
       "        ></iframe>\n",
       "        "
      ],
      "text/plain": [
       "<IPython.lib.display.YouTubeVideo at 0x275ba0cd5f8>"
      ]
     },
     "execution_count": 11,
     "metadata": {},
     "output_type": "execute_result"
    }
   ],
   "source": [
    "# just a helper function for easier youtube call\n",
    "def strip_url(url):\n",
    "    return url.replace('https://youtu.be/','')\n",
    "\n",
    "from IPython.display import YouTubeVideo\n",
    "url = 'https://youtu.be/Nq1p7MdxlBU'\n",
    "YouTubeVideo(strip_url(url))"
   ]
  },
  {
   "cell_type": "markdown",
   "metadata": {},
   "source": [
    "These are thankfully pretty straight forward, so we could directly calculate using Bayes' theorem. "
   ]
  },
  {
   "cell_type": "markdown",
   "metadata": {},
   "source": [
    "### 4 Heads and 0 Tails\n",
    "\n",
    "This means, 4 flips, and sequence HHHH\n",
    "\n",
    "So question is what is the probability of fair coin, given HHHH?  \n",
    "\n",
    "$\n",
    "p(Fair\\ |\\ Flips) = \\dfrac {p(Fair\\ \\cap\\ Flips)}{\\sum p(Flips\\ )} \\\\ \\\\\n",
    "p(Fair\\ |\\ HHHH) = \\dfrac {p(Fair\\ \\cap\\ HHHH)}{\\sum p(HHHH\\ )} \n",
    "= \\dfrac {p(Fair\\ \\cap\\ HHHH)}{p(Fair\\ \\cap\\ HHHH) + p(Loaded\\ \\cap\\ HHHH)} \n",
    "= \\dfrac {(0.9)(0.5)^4}{(0.9)(0.5)^4 + (0.1)(0.9)^4} = 0.4615\n",
    "$"
   ]
  },
  {
   "cell_type": "code",
   "execution_count": 12,
   "metadata": {},
   "outputs": [
    {
     "data": {
      "text/plain": [
       "0.4615952732644018"
      ]
     },
     "execution_count": 12,
     "metadata": {},
     "output_type": "execute_result"
    }
   ],
   "source": [
    "p_F = 0.9\n",
    "p_HF = 0.5\n",
    "\n",
    "p_L = 0.1\n",
    "p_HL = 0.9\n",
    "\n",
    "# 4 flips, 4 Heads and 0 Tails\n",
    "p_F_given_H_4 = p_F*(p_HF)**4/(p_F*(p_HF)**4 + p_L*(p_HL**4))\n",
    "p_F_given_H_4"
   ]
  },
  {
   "cell_type": "markdown",
   "metadata": {},
   "source": [
    "### 10 Heads and 0 Tails  \n",
    "\n",
    "Similar like above, this time to the power of 10\n",
    "\n",
    "$\n",
    "p(Fair\\ |\\ Flips) = \\dfrac {p(Fair\\ \\cap\\ Flips)}{\\sum p(Flips\\ )} \\\\ \\\\\n",
    "p(Fair\\ |\\ 10H) = \\dfrac {p(Fair\\ \\cap\\ 10H)}{\\sum p(10H\\ )} \n",
    "= \\dfrac {p(Fair\\ \\cap\\ 10H)}{p(Fair\\ \\cap\\ 10H) + p(Loaded\\ \\cap\\ 10H)} \n",
    "= \\dfrac {(0.9)(0.5)^{10}}{(0.9)(0.5)^{10} + (0.1)(0.9)^{10}} = 0.02458\n",
    "$"
   ]
  },
  {
   "cell_type": "code",
   "execution_count": 13,
   "metadata": {},
   "outputs": [
    {
     "data": {
      "text/plain": [
       "0.024587025215085937"
      ]
     },
     "execution_count": 13,
     "metadata": {},
     "output_type": "execute_result"
    }
   ],
   "source": [
    "# 10 flips, 10 Heads and 0 Tails\n",
    "p_F_given_H_10 = p_F*(p_HF)**10/(p_F*(p_HF)**10 + p_L*(p_HL**10))\n",
    "p_F_given_H_10"
   ]
  },
  {
   "cell_type": "markdown",
   "metadata": {},
   "source": [
    "### 20 Heads and 0 Tails  \n",
    "\n",
    "Similar like above, this time to the power of 20\n",
    "\n",
    "$\n",
    "p(Fair\\ |\\ Flips) = \\dfrac {p(Fair\\ \\cap\\ Flips)}{\\sum p(Flips\\ )} \\\\ \\\\\n",
    "p(Fair\\ |\\ 20H) = \\dfrac {p(Fair\\ \\cap\\ 20H)}{\\sum p(20H\\ )} \n",
    "= \\dfrac {p(Fair\\ \\cap\\ 20H)}{p(Fair\\ \\cap\\ 20H) + p(Loaded\\ \\cap\\ 20H)} \n",
    "= \\dfrac {(0.9)(0.5)^{20}}{(0.9)(0.5)^{20} + (0.1)(0.9)^{20}} = 0.0007059\n",
    "$"
   ]
  },
  {
   "cell_type": "code",
   "execution_count": 14,
   "metadata": {},
   "outputs": [
    {
     "data": {
      "text/plain": [
       "7.059301781108519e-05"
      ]
     },
     "execution_count": 14,
     "metadata": {},
     "output_type": "execute_result"
    }
   ],
   "source": [
    "# 20 flips, 20 Heads and 0 Tails\n",
    "p_F_given_H_20 = p_F*(p_HF)**20/(p_F*(p_HF)**20 + p_L*(p_HL**20))\n",
    "p_F_given_H_20"
   ]
  },
  {
   "cell_type": "markdown",
   "metadata": {},
   "source": [
    "### 0 Heads and 5 Tails  \n",
    "\n",
    "Similar like above, except that its tails now. \n",
    "\n",
    "Implied No of flips = 5  \n",
    "\n",
    "$\n",
    "p(Fair\\ |\\ Flips) = \\dfrac {p(Fair\\ \\cap\\ Flips)}{\\sum p(Flips\\ )} \\\\ \\\\\n",
    "p(Fair\\ |\\ 5T) = \\dfrac {p(Fair\\ \\cap\\ 5T)}{\\sum p(5T\\ )} \n",
    "= \\dfrac {p(Fair\\ \\cap\\ 5T)}{p(Fair\\ \\cap\\ 5T) + p(Loaded\\ \\cap\\ 5T)} \n",
    "= \\dfrac {(0.9)(0.5)^{5}}{(0.9)(0.5)^{5} + (0.1)(0.1)^{5}} = 0.9999 \\cong 1\n",
    "$\n",
    "\n",
    "Wow that is almost always probable. If you have 5 flips, fair coin having 5 T is almost certain??  Some one please double check this.  "
   ]
  },
  {
   "cell_type": "code",
   "execution_count": 15,
   "metadata": {},
   "outputs": [
    {
     "data": {
      "text/plain": [
       "0.999964445708597"
      ]
     },
     "execution_count": 15,
     "metadata": {},
     "output_type": "execute_result"
    }
   ],
   "source": [
    "# 5 flips, 0 Heads and 5 Tails\n",
    "p_TF = 0.5\n",
    "\n",
    "p_TL = 0.1\n",
    "\n",
    "p_F_given_T_5 = p_F*(p_TF**5)/( p_F*(p_TF**5) +  p_L*(p_TL**5))\n",
    "p_F_given_T_5"
   ]
  },
  {
   "attachments": {
    "image.png": {
     "image/png": "[encoded data removed]"
    }
   },
   "cell_type": "markdown",
   "metadata": {},
   "source": [
    "###  5 Flips, 2 Heads, 3 Tails\n",
    "\n",
    "n = 5, X = 2 (heads), We could use Pascal's triangle, to find the no of sequences having 2 heads for 5 flip problem. \n",
    "\n",
    "![image.png](attachment:image.png)"
   ]
  },
  {
   "cell_type": "markdown",
   "metadata": {},
   "source": [
    "From Pascal's triangle, there are 10 sequences possible where, there are 2 Heads and 3 Tails. \n",
    "\n",
    "For fair coin, each of those 10 sequences will have joint probability, $p(2H3T) = (0.5)^2(0.5)^3 = 0.5^5 = 0.03125 $\n",
    "\n",
    "For loaded coin, each of those 10 sequences will have joint probability $p(2H3T) = (0.9)^2(0.1)^3 = 0.00081 $"
   ]
  },
  {
   "cell_type": "markdown",
   "metadata": {},
   "source": [
    "Joint probability of coin being fair **and** having 2H3T for one sequence $ (0.9)(0.03125) = 0.028125 $  \n",
    "<br>\n",
    "<div style=\"background-color:'#E3F2FD;  padding: 10px 10px 10px 10px;\">There are 10 such joint probabilities for fair coin path out of $2^5 = 32$ fair coin path outcomes</div>\n",
    "\n",
    "Joint probability of coin being loaded **and** having 2H3T for one sequence $ (0.1)(0.00081) = 0.000081 $  \n",
    "<br>\n",
    "<div style=\"background-color:'#E3F2FD;  padding: 10px 10px 10px 10px;\">There are 10 such joint probabilities for loaded coin path out of $2^5 = 32$ loaded coin path outcomes</div>"
   ]
  },
  {
   "cell_type": "markdown",
   "metadata": {},
   "source": [
    "$\n",
    "p(Fair\\ |\\ Flips) = \\dfrac {p(Fair\\ \\cap\\ Flips)}{\\sum p(Flips\\ )} \\\\ \\\\\n",
    "p(Fair\\ |\\ 2H3T) = \\dfrac {p(Fair\\ \\cap\\ 2H3T)}{\\sum p(2H3T\\ )} \n",
    "= \\dfrac {p(Fair\\ \\cap\\ 2H3T)}{p(Fair\\ \\cap\\ 2H3T) + p(Loaded\\ \\cap\\ 2H3T)} \n",
    "= \\dfrac { 10(0.028125) }{ 10(0.028125) + 10(0.000081)} = 0.9971 \\cong 1\n",
    "$"
   ]
  },
  {
   "cell_type": "code",
   "execution_count": 16,
   "metadata": {},
   "outputs": [
    {
     "data": {
      "text/plain": [
       "0.9971282705807275"
      ]
     },
     "execution_count": 16,
     "metadata": {},
     "output_type": "execute_result"
    }
   ],
   "source": [
    "0.028125/(0.028125 + 0.000081)"
   ]
  },
  {
   "cell_type": "markdown",
   "metadata": {},
   "source": [
    "Thus, answer is (probabilities which are < 0.5)\n",
    "\n",
    "<br><div style=\"background-color:'#E3F2FD;  padding: 10px 10px 10px 10px;\">\n",
    "4 H 0 T<br>\n",
    "10 H 0 T<br>\n",
    "20 H 0 T<br>\n",
    "</div><br>"
   ]
  },
  {
   "cell_type": "code",
   "execution_count": null,
   "metadata": {},
   "outputs": [],
   "source": []
  }
 ],
 "metadata": {
  "kernelspec": {
   "display_name": "Python [conda env:Anaconda3]",
   "language": "python",
   "name": "conda-env-Anaconda3-py"
  },
  "language_info": {
   "codemirror_mode": {
    "name": "ipython",
    "version": 3
   },
   "file_extension": ".py",
   "mimetype": "text/x-python",
   "name": "python",
   "nbconvert_exporter": "python",
   "pygments_lexer": "ipython3",
   "version": "3.6.4"
  },
  "toc": {
   "base_numbering": 1,
   "nav_menu": {},
   "number_sections": true,
   "sideBar": true,
   "skip_h1_title": false,
   "title_cell": "Table of Contents",
   "title_sidebar": "Contents",
   "toc_cell": false,
   "toc_position": {},
   "toc_section_display": true,
   "toc_window_display": false
  }
 },
 "nbformat": 4,
 "nbformat_minor": 2
}
