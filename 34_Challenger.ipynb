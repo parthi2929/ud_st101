{
 "cells": [
  {
   "cell_type": "markdown",
   "metadata": {},
   "source": [
    "# 34. Challenger Example\n",
    "\n",
    "## Failures Regression 1,2,3,4,5,6,7"
   ]
  },
  {
   "cell_type": "markdown",
   "metadata": {},
   "source": [
    "Regression Formula for a given sample set\n",
    "\n",
    "$$\\begin{aligned}\n",
    "\\hat{Y} &= b_0 + b_1X \\\\ \\\\\n",
    "b_1 &= \\dfrac{\\sum_i (x_i - \\overline{x})(y_i - \\overline{y})}{\\sum_i (x_i - \\overline{x})^2} \\\\ \\\\\n",
    "b_0 &= \\overline{y} - b_1\\overline{x}\n",
    "\\end{aligned}$$"
   ]
  },
  {
   "cell_type": "code",
   "execution_count": 7,
   "metadata": {
    "ExecuteTime": {
     "end_time": "2018-11-26T08:36:13.162343Z",
     "start_time": "2018-11-26T08:36:13.154334Z"
    }
   },
   "outputs": [
    {
     "data": {
      "text/plain": [
       "446"
      ]
     },
     "execution_count": 7,
     "metadata": {},
     "output_type": "execute_result"
    }
   ],
   "source": [
    "x = [70, 57, 63, 70, 53, 75, 58]\n",
    "y = [1, 1, 1, 1, 2, 2, 1]\n",
    "\n",
    "sum(x)"
   ]
  },
  {
   "cell_type": "code",
   "execution_count": 8,
   "metadata": {
    "ExecuteTime": {
     "end_time": "2018-11-26T08:36:51.277106Z",
     "start_time": "2018-11-26T08:36:51.273106Z"
    }
   },
   "outputs": [
    {
     "data": {
      "text/plain": [
       "9"
      ]
     },
     "execution_count": 8,
     "metadata": {},
     "output_type": "execute_result"
    }
   ],
   "source": [
    "sum(y)"
   ]
  },
  {
   "cell_type": "code",
   "execution_count": 9,
   "metadata": {
    "ExecuteTime": {
     "end_time": "2018-11-26T08:37:46.472290Z",
     "start_time": "2018-11-26T08:37:46.466296Z"
    }
   },
   "outputs": [
    {
     "data": {
      "text/plain": [
       "28816"
      ]
     },
     "execution_count": 9,
     "metadata": {},
     "output_type": "execute_result"
    }
   ],
   "source": [
    "sum([i**2 for i in x])"
   ]
  },
  {
   "cell_type": "code",
   "execution_count": 11,
   "metadata": {
    "ExecuteTime": {
     "end_time": "2018-11-26T08:40:06.365961Z",
     "start_time": "2018-11-26T08:40:06.360964Z"
    }
   },
   "outputs": [
    {
     "data": {
      "text/plain": [
       "574"
      ]
     },
     "execution_count": 11,
     "metadata": {},
     "output_type": "execute_result"
    }
   ],
   "source": [
    "sum([i[0]*i[1] for i in zip(x,y)])"
   ]
  },
  {
   "cell_type": "code",
   "execution_count": 13,
   "metadata": {
    "ExecuteTime": {
     "end_time": "2018-11-26T08:42:32.204936Z",
     "start_time": "2018-11-26T08:42:32.191943Z"
    }
   },
   "outputs": [
    {
     "data": {
      "text/plain": [
       "(1.1945636623748213, 0.0014306151645207454)"
      ]
     },
     "execution_count": 13,
     "metadata": {},
     "output_type": "execute_result"
    }
   ],
   "source": [
    "\n",
    "# means\n",
    "n = len(x)  # also could use len(Y) as its pairs\n",
    "x_b, y_b = sum(x)/n, sum(y)/n\n",
    "\n",
    "b_1 = sum([(i[0] - x_b)*(i[1] - y_b) for i in zip(x,y)])/ sum([(i - x_b)**2 for i in x])\n",
    "b_0 = y_b - b_1*x_b\n",
    "\n",
    "b_0, b_1"
   ]
  },
  {
   "cell_type": "markdown",
   "metadata": {},
   "source": [
    "## Predicted Failures\n",
    "\n",
    "Actual expected no of o-ring failures at 36 degrees = ?"
   ]
  },
  {
   "cell_type": "code",
   "execution_count": 14,
   "metadata": {
    "ExecuteTime": {
     "end_time": "2018-11-26T08:44:19.803718Z",
     "start_time": "2018-11-26T08:44:19.798705Z"
    }
   },
   "outputs": [
    {
     "data": {
      "text/plain": [
       "1.2460658082975682"
      ]
     },
     "execution_count": 14,
     "metadata": {},
     "output_type": "execute_result"
    }
   ],
   "source": [
    "36*b_1 + b_0"
   ]
  },
  {
   "cell_type": "markdown",
   "metadata": {},
   "source": [
    "## All Regression 1,2"
   ]
  },
  {
   "cell_type": "code",
   "execution_count": 17,
   "metadata": {
    "ExecuteTime": {
     "end_time": "2018-11-26T08:49:02.833426Z",
     "start_time": "2018-11-26T08:49:02.824431Z"
    }
   },
   "outputs": [
    {
     "data": {
      "text/plain": [
       "(3.6984126984127075, -0.04753968253968267)"
      ]
     },
     "execution_count": 17,
     "metadata": {},
     "output_type": "execute_result"
    }
   ],
   "source": [
    "n = 23\n",
    "sum_x, sum_x2, sum_y, sum_xy = 1600, 112400, 9 , 574\n",
    "\n",
    "b = (sum_xy - (1/n)*sum_x*sum_y)/(sum_x2 - (1/n)*(sum_x)**2)\n",
    "a = (1/n)*sum_y - b*(1/n)*sum_x\n",
    "a, b"
   ]
  },
  {
   "cell_type": "code",
   "execution_count": 18,
   "metadata": {
    "ExecuteTime": {
     "end_time": "2018-11-26T08:49:41.923520Z",
     "start_time": "2018-11-26T08:49:41.918522Z"
    }
   },
   "outputs": [
    {
     "data": {
      "text/plain": [
       "1.9869841269841313"
      ]
     },
     "execution_count": 18,
     "metadata": {},
     "output_type": "execute_result"
    }
   ],
   "source": [
    "36*b + a"
   ]
  }
 ],
 "metadata": {
  "kernelspec": {
   "display_name": "Python [conda env:Anaconda3]",
   "language": "python",
   "name": "conda-env-Anaconda3-py"
  },
  "language_info": {
   "codemirror_mode": {
    "name": "ipython",
    "version": 3
   },
   "file_extension": ".py",
   "mimetype": "text/x-python",
   "name": "python",
   "nbconvert_exporter": "python",
   "pygments_lexer": "ipython3",
   "version": "3.6.4"
  },
  "toc": {
   "base_numbering": 1,
   "nav_menu": {},
   "number_sections": true,
   "sideBar": true,
   "skip_h1_title": false,
   "title_cell": "Table of Contents",
   "title_sidebar": "Contents",
   "toc_cell": false,
   "toc_position": {},
   "toc_section_display": true,
   "toc_window_display": false
  }
 },
 "nbformat": 4,
 "nbformat_minor": 2
}
