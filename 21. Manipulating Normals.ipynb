{
 "cells": [
  {
   "cell_type": "markdown",
   "metadata": {},
   "source": [
    "### Quiz: Raises (X+a)"
   ]
  },
  {
   "cell_type": "code",
   "execution_count": 1,
   "metadata": {},
   "outputs": [
    {
     "data": {
      "image/jpeg": "[encoded data removed]",
      "text/html": [
       "\n",
       "        <iframe\n",
       "            width=\"400\"\n",
       "            height=\"300\"\n",
       "            src=\"https://www.youtube.com/embed/pXQnqZlrsXY\"\n",
       "            frameborder=\"0\"\n",
       "            allowfullscreen\n",
       "        ></iframe>\n",
       "        "
      ],
      "text/plain": [
       "<IPython.lib.display.YouTubeVideo at 0x24396af8828>"
      ]
     },
     "execution_count": 1,
     "metadata": {},
     "output_type": "execute_result"
    }
   ],
   "source": [
    "# just a helper function for easier youtube call\n",
    "def strip_url(url):\n",
    "    return url.replace('https://youtu.be/','')\n",
    "\n",
    "from IPython.display import YouTubeVideo\n",
    "url = 'https://youtu.be/pXQnqZlrsXY'\n",
    "YouTubeVideo(strip_url(url))"
   ]
  },
  {
   "cell_type": "markdown",
   "metadata": {},
   "source": [
    "#### Ans:\n",
    "\n",
    "It is hard to imagine how salary turns out to be normal as I am unable to comprehend binomial nature underlying it (what would it be, to give salary or not?). Nevertheless, here we go. \n",
    "\n",
    "#### Considering as discrete random variable problem.. \n",
    "\n",
    "**Mean:**  \n",
    "$\n",
    "\\textstyle\n",
    "\\begin{array}{l}\n",
    "\\mu = E[X] = \\dfrac {X_1 + X_2 + \\cdots + X_n}{n} \\\\ \n",
    "\\mu' = E[X+a] = \\dfrac { (X_1+a) + (X_2+a)  + \\cdots + (X_n+a)}{n} \\\\ \n",
    "= \\dfrac {X_1 + X_2 + \\cdots + X_n + (n \\cdot a)}{n} \\\\ \n",
    "= \\dfrac {X_1 + X_2 + \\cdots + X_n}{n} + a \\\\ \n",
    "= E[X] + a \\\\ \n",
    "= \\mu + a \\\\ \n",
    "\\text {Given  } \\mu = 60000 \\ a = 10000 , \\\\ \\mu' = \\mu + a = 60000+10000 = 70000\n",
    "\\end{array} \\\\ \\\\\n",
    "$  \n",
    "\n",
    "\n",
    "**Variance:**  \n",
    "$ \n",
    "\\begin{array}{l}\n",
    "\\sigma^2 = Var[X] = E[X^2] - [E[X]]^2 \\\\ \n",
    "\\sigma'^{\\ 2} = E[(X+a)^2] - [E[(X+a)]]^2 \\\\ \n",
    "= E[X^2 + a^2 + 2aX] - [E[X] + E[a]]^2 \\\\ \n",
    "= E[X^2] + a^2 + 2aE[X] - \\Big\\{ [E[X]]^2 + a^2 + 2aE[X] \\Big\\} \\\\\n",
    "= E[X^2] + \\cancel{a^2} + \\cancel{2aE[X]} - [E[X]]^2 - \\cancel{a^2} + \\cancel{2aE[X]} \\\\ \n",
    "= E[X^2] - [E[X]]^2 \\\\\n",
    "= \\sigma^2 \\\\ \n",
    "\\text {Given } \\sigma^2 = 10000, \\\\ \\sigma'^{\\ 2} = 10000\n",
    "\\end{array} \\\\ \\\\\n",
    "$\n",
    "\n",
    "Thus, remember,   \n",
    "\n",
    "\n",
    "$$\n",
    "\\color {blue}{ \\text{If }\\  X' = X + a, \\text{then}} \\\\ \\\\\n",
    "\\color {blue}{ \\mu' = \\mu + a} \\\\ \\\\\n",
    "\\color {blue}{ \\sigma'^{\\ 2} = \\sigma^2} \\\\ \\\\\n",
    "$$"
   ]
  },
  {
   "cell_type": "markdown",
   "metadata": {},
   "source": [
    "#### Using continous density function.. \n",
    "\n",
    "It is also possible, and straight forward that we could deduce the same as shown in Udacity, that from Normal distribution function, we could derive the same. "
   ]
  },
  {
   "cell_type": "markdown",
   "metadata": {},
   "source": [
    "$\n",
    "\\textstyle\n",
    "\\begin{array}{l}\n",
    "x' = x + a \\\\ \n",
    "\\therefore x = x' - a \\\\ \n",
    "\\mu = E[X]  \\\\ \n",
    "\\mu' = E[X+a] \\\\\n",
    "\\varphi(x) = \\dfrac {1}{\\sigma \\sqrt{2\\pi}}e^{-\\dfrac{1}{2}  \\Big(  \\dfrac{x-\\mu}{\\sigma} \\Big)^2 } \\\\ \n",
    "= \\dfrac {1}{\\sigma \\sqrt{2\\pi}}e^{-\\dfrac{1}{2}  \\Big(  \\dfrac{x' - a -\\mu}{\\sigma} \\Big)^2 } \\\\\n",
    "= \\dfrac {1}{\\sigma \\sqrt{2\\pi}}e^{-\\dfrac{1}{2}  \\Big(  \\dfrac{x' - (\\mu + a)}{\\sigma} \\Big)^2 } \\\\ \\\\\n",
    "\\therefore \\text {new Mean} \\ \\mu' = \\mu + a, \\text {but Variance did not change} \\ \\sigma'^{\\ 2} = \\sigma^2\n",
    "\\end{array}\n",
    "$\n"
   ]
  },
  {
   "cell_type": "markdown",
   "metadata": {},
   "source": [
    "### Double Salary  (aX)"
   ]
  },
  {
   "cell_type": "code",
   "execution_count": 2,
   "metadata": {},
   "outputs": [
    {
     "data": {
      "image/jpeg": "[encoded data removed]",
      "text/html": [
       "\n",
       "        <iframe\n",
       "            width=\"400\"\n",
       "            height=\"300\"\n",
       "            src=\"https://www.youtube.com/embed/Gc42YG3335w\"\n",
       "            frameborder=\"0\"\n",
       "            allowfullscreen\n",
       "        ></iframe>\n",
       "        "
      ],
      "text/plain": [
       "<IPython.lib.display.YouTubeVideo at 0x24396af8630>"
      ]
     },
     "execution_count": 2,
     "metadata": {},
     "output_type": "execute_result"
    }
   ],
   "source": [
    "url = 'https://youtu.be/Gc42YG3335w'\n",
    "YouTubeVideo(strip_url(url))"
   ]
  },
  {
   "cell_type": "markdown",
   "metadata": {},
   "source": [
    "### Ans\n",
    "\n",
    "#### Considering as discrete random variable problem...\n",
    "\n",
    "**Mean:**  \n",
    "$\n",
    "\\textstyle\n",
    "\\begin{array}{l}\n",
    "\\mu = E[X] = \\dfrac {X_1 + X_2 + \\cdots + X_n}{n} \\\\ \\\\\n",
    "\\mu' = E[aX] = \\dfrac { (aX_1) + (aX_2)  + \\cdots + (aX_n)}{n} \\\\ \\\\\n",
    "= \\dfrac {a(X_1 + X_2 + \\cdots + X_n)}{n} \\\\ \\\\\n",
    "= aE[X] \\\\ \n",
    "= a\\mu \\\\ \n",
    "\\text {Given  } \\mu = 70000 \\ a = 2 , \\\\ \n",
    "\\mu' = a\\mu = 2(70000) = 140000\n",
    "\\end{array} \\\\ \\\\\n",
    "$\n",
    "\n",
    "\n",
    "\n",
    "If you noticed, we already used this property of scaling mean, in Var(X) proof in earlier quiz. We will also use now.   \n",
    "\n",
    "**Variance:**  \n",
    "$\n",
    "\\textstyle\n",
    "\\begin{array}{l}\n",
    "\\sigma^2 = Var[X] = E[X^2] - [E[X]]^2 \\\\ \n",
    "\\sigma'^{\\ 2} = E[(aX)^2] - [E[(aX)]]^2 \\\\ \n",
    "= a^2E[X^2] - [aE[X]]^2 \\\\\n",
    "= a^2E[X^2] - a^2[E[X]]^2 \\\\\n",
    "= a^2 \\big\\{ E[X^2] - [E[X]]^2\\big\\}\n",
    "= a^2\\sigma^2 \\\\\n",
    "\\text {Given }\\ \\sigma = 10000, a = 2, \\\\\n",
    "\\sigma'{\\ ^2} = 2^2(10000^2) = (20000)^2 \\\\\n",
    "\\therefore \\sigma' = 20000\n",
    "\\end{array} \\\\ \\\\\n",
    "$\n",
    "\n",
    "#### Using Continous density function  \n",
    "\n",
    "$\n",
    "\\textstyle\n",
    "\\begin{array}{l}\n",
    "x' = ax \\\\ \n",
    "\\therefore x = \\dfrac{x'}{a} \\\\ \n",
    "\\mu = E[X]  \\\\ \n",
    "\\mu' = E[aX] \\\\\n",
    "\\varphi(x) = \\dfrac {1}{\\sigma \\sqrt{2\\pi}}e^{-\\dfrac{1}{2}  \\Big(  \\dfrac{x-\\mu}{\\sigma} \\Big)^2 } \\\\ \n",
    "= \\dfrac {1}{\\sigma \\sqrt{2\\pi}}e^{-\\dfrac{1}{2}  \\Bigg(  \\dfrac{\\frac{x'}{a} -\\mu}{\\sigma} \\Bigg)^2 } \\\\\n",
    "= \\dfrac {1}{\\color {blue}{\\sigma} \\sqrt{2\\pi}}e^{-\\dfrac{1}{2}  \\Big(  \\dfrac{x' - \\color {blue}{a\\mu}}{\\color {blue}{a\\sigma}} \\Big)^2 } \\\\ \n",
    "\\end{array} \\\\ \\\\\n",
    "$\n",
    "\n",
    "<u>Note:</u> As sigma is not scaled by factor \"a\" in exponential part, curve would now be taller unless we compensate by dividing the constant by \"a\" as shown below (I am not fully convinced though, can some one prove it mathematically more rigorously?)  \n",
    "\n",
    "$\n",
    "\\varphi(x) = \\dfrac {1}{\\color {blue}{a\\sigma} \\sqrt{2\\pi}}e^{-\\dfrac{1}{2}  \\Big(  \\dfrac{x' - \\color {blue}{a\\mu}}{\\color {blue}{a\\sigma}} \\Big)^2 } \\\\ \n",
    "\\therefore \\text {new Mean} \\ \\mu' = a\\mu, \\text {and Variance} \\ \\sigma'^{\\ 2} = a^2\\sigma^2 \\\\ \\\\\n",
    "$\n",
    "\n",
    "Thus, remember,   \n",
    "\n",
    "$$\n",
    "\\color {blue}{ \\text{If }\\  X' = aX, \\text{then}} \\\\ \\\\\n",
    "\\color {blue}{ \\mu' = a\\mu} \\\\ \\\\\n",
    "\\color {blue}{ \\sigma'^{\\ 2} = a^2\\sigma^2} \\\\ \\\\\n",
    "$$"
   ]
  },
  {
   "cell_type": "markdown",
   "metadata": {},
   "source": [
    "### Throwing (aX+b)"
   ]
  },
  {
   "cell_type": "code",
   "execution_count": 3,
   "metadata": {},
   "outputs": [
    {
     "data": {
      "image/jpeg": "[encoded data removed]",
      "text/html": [
       "\n",
       "        <iframe\n",
       "            width=\"400\"\n",
       "            height=\"300\"\n",
       "            src=\"https://www.youtube.com/embed/Piq_2B6udhQ\"\n",
       "            frameborder=\"0\"\n",
       "            allowfullscreen\n",
       "        ></iframe>\n",
       "        "
      ],
      "text/plain": [
       "<IPython.lib.display.YouTubeVideo at 0x24396af8780>"
      ]
     },
     "execution_count": 3,
     "metadata": {},
     "output_type": "execute_result"
    }
   ],
   "source": [
    "url = 'https://youtu.be/Piq_2B6udhQ'\n",
    "YouTubeVideo(strip_url(url))"
   ]
  },
  {
   "cell_type": "markdown",
   "metadata": {},
   "source": [
    "#### Ans:\n",
    "\n",
    "$\n",
    "X' = aX + b\n",
    "$\n",
    "\n",
    "**Mean:**\n",
    "$\n",
    "\\mu = E[X] \\\\\n",
    "\\mu' = E[X'] = E[aX + b] = aE[X] + b \\\\\n",
    "\\text {Given  } \\  \\mu=70000, \\sigma=10000, a=(100+10)\\%,\\  b=2 \\\\  \n",
    "\\mu' = (1.1)(30) + 2 = 33 + 2 = 35 \\\\ \\\\\n",
    "$\n",
    "\n",
    "**Variance:**\n",
    "$\n",
    "\\sigma^2 = Var(X) \\\\\n",
    "\\sigma'{\\ ^2} = Var(X') = E[X'{\\ ^2}] - [E[X']]^2 \\\\\n",
    "= E[(aX+b)^2] - [E[aX+b]]^2 \\\\\n",
    "= E[a^2X^2 + b^2 + 2abX] - (aE[X]+b)^2 \\\\\n",
    "= E[a^2X^2 + b^2 + 2abX] - (a^2[E[X]]^2 + b^2 + 2abE[X]) \\\\\n",
    "= a^2E[X^2] + b^2 + 2abE[X] - a^2[E[X]]^2 - b^2 - 2abE[X] \\\\\n",
    "= a^2E[X^2] - a^2[E[X]]^2 = a^2(E[X^2] - [E[X]]^2) = a^2\\sigma^2 \\\\\n",
    "\\text {Given  } \\  \\mu=30, \\sigma=5, a=(100+10)\\%, \\ b=2 \\\\  \n",
    "\\sigma' = a\\sigma = (1.1)(5) = 5.5\n",
    "$"
   ]
  },
  {
   "cell_type": "markdown",
   "metadata": {},
   "source": [
    "Thus, remember,   \n",
    "\n",
    "$$\n",
    "\\color {blue}{ \\text{If }\\  X' = aX + b, \\text{then}} \\\\ \\\\\n",
    "\\color {blue}{ \\mu' = a\\mu + b} \\\\ \\\\\n",
    "\\color {blue}{ \\sigma'^{\\ 2} = a^2\\sigma^2} \\\\ \\\\\n",
    "$$"
   ]
  },
  {
   "cell_type": "markdown",
   "metadata": {},
   "source": [
    "### Golf 1 (X+Y)"
   ]
  },
  {
   "cell_type": "code",
   "execution_count": 4,
   "metadata": {},
   "outputs": [
    {
     "data": {
      "image/jpeg": "[encoded data removed]",
      "text/html": [
       "\n",
       "        <iframe\n",
       "            width=\"400\"\n",
       "            height=\"300\"\n",
       "            src=\"https://www.youtube.com/embed/CvnqL5oSXrw\"\n",
       "            frameborder=\"0\"\n",
       "            allowfullscreen\n",
       "        ></iframe>\n",
       "        "
      ],
      "text/plain": [
       "<IPython.lib.display.YouTubeVideo at 0x24396af8748>"
      ]
     },
     "execution_count": 4,
     "metadata": {},
     "output_type": "execute_result"
    }
   ],
   "source": [
    "url = 'https://youtu.be/CvnqL5oSXrw'\n",
    "YouTubeVideo(strip_url(url))"
   ]
  },
  {
   "cell_type": "markdown",
   "metadata": {},
   "source": [
    ".. and also find combined variance.. \n",
    "\n",
    "#### Ans\n",
    "\n",
    "$\n",
    "X' = X + Y \\\\\n",
    "\\mu_x = E[X] = 100, \\sigma_x = 30 \\\\\n",
    "\\mu_y = E[Y] = 100, \\sigma_y = 30 \\\\\n",
    "$\n",
    "\n",
    "$\n",
    "\\mu' = E[X+Y] = E[X] + E[Y] \\\\\n",
    "= 100 + 100 = 200 \\\\\n",
    "$\n",
    "\n",
    "$\n",
    "\\sigma'^{\\ 2} = Var(X') = E[X'{\\ 2}] - [E[X']]^2 \\\\\n",
    "= E[(X + Y)^2] - \\big\\{ E[X + Y] \\big\\}^2 \\\\\n",
    "= E[X^2 + Y^2 + 2XY] - \\big\\{ E[X] + E[Y] \\big\\}^2 \\\\\n",
    "= E[X^2] + E[Y^2] + 2E[X]E[Y] - \\big\\{ [E[X]]^2 + [E[Y]]^2 + 2E[X]E[Y] \\\\\n",
    "= \\big\\{ E[X^2] - [E[X]]^2 \\big\\} + \\big\\{ E[Y^2] - [E[Y]]^2 \\big\\} \\\\\n",
    "= \\sigma_x^2 + \\sigma_y^2\n",
    "= 30 + 30\n",
    "= 60\n",
    "$"
   ]
  },
  {
   "cell_type": "markdown",
   "metadata": {},
   "source": [
    "Thus, remember,   \n",
    "\n",
    "$$\n",
    "\\color {blue}{ \\text{If }\\  X' = X + Y, \\text{then}} \\\\ \\\\\n",
    "\\color {blue}{ \\mu' = \\mu_X + \\mu_y} \\\\ \\\\\n",
    "\\color {blue}{ \\sigma'^{\\ 2} = \\sigma_x^2 + \\sigma_y^2} \\\\ \\\\\n",
    "$$"
   ]
  },
  {
   "cell_type": "markdown",
   "metadata": {},
   "source": [
    "### Subtracting Normals (X-Y)"
   ]
  },
  {
   "cell_type": "code",
   "execution_count": 5,
   "metadata": {},
   "outputs": [
    {
     "data": {
      "image/jpeg": "[encoded data removed]",
      "text/html": [
       "\n",
       "        <iframe\n",
       "            width=\"400\"\n",
       "            height=\"300\"\n",
       "            src=\"https://www.youtube.com/embed/FpmwhVT7ikU\"\n",
       "            frameborder=\"0\"\n",
       "            allowfullscreen\n",
       "        ></iframe>\n",
       "        "
      ],
      "text/plain": [
       "<IPython.lib.display.YouTubeVideo at 0x24396af8048>"
      ]
     },
     "execution_count": 5,
     "metadata": {},
     "output_type": "execute_result"
    }
   ],
   "source": [
    "url = 'https://youtu.be/FpmwhVT7ikU'\n",
    "YouTubeVideo(strip_url(url))"
   ]
  },
  {
   "cell_type": "markdown",
   "metadata": {},
   "source": [
    "$\n",
    "X' = X - Y \\\\\n",
    "X \\neq Y, \\ \\ E[X] = E[Y] = \\mu \\ \\text{and} \\ Var(X) = Var(Y) = \\sigma \\\\\n",
    "$\n",
    "\n",
    "$\n",
    "\\mu' = E[X'] = E[X-Y] = E[X] - E[Y] = E[X] - E[X] = \\mu - \\mu = 0 \\\\\n",
    "$\n",
    "\n",
    "$\n",
    "\\sigma'{\\ ^2} = Var(X') =  E[X'{\\ 2}] - [E[X']]^2 = E[ (X-Y)^2 ] - [ E[X-Y] ]^2 \\\\\n",
    "= E[ X^2 + Y^2 - 2XY ] - \\big\\{ E[X] - E[Y] \\big\\}^2 \\\\\n",
    "= E[X^2] + E[Y^2] - 2E[X][Y] - [E[X]]^2 - [E[Y]]^2 + 2E[X][Y] \\\\\n",
    "= \\big\\{ E[X^2] - [E[X]]^2 \\big\\} + \\big\\{  E[Y^2] - [E[Y]]^2 \\big\\} \\\\\n",
    "= \\sigma + \\sigma = 2\\sigma\n",
    "$"
   ]
  },
  {
   "cell_type": "markdown",
   "metadata": {},
   "source": [
    "Thus, remember,  \n",
    "\n",
    "$$\n",
    "\\color {blue}{ \\text{If }\\  X' = X - Y, \\text{then}} \\\\ \\\\\n",
    "\\color {blue}{ \\mu' = \\mu_X - \\mu_y} \\\\ \\\\\n",
    "\\color {blue}{ \\sigma'^{\\ 2} = \\sigma_x^2 + \\sigma_y^2} \\\\ \\\\\n",
    "$$  \n",
    "\n",
    "<br><div style=\"background-color:'#E3F2FD;  padding: 10px 10px 10px 10px;\">Note that even when you subtract, the variance adds up, which is very counter intuitive, so we have to be careful\n",
    "</div><br>"
   ]
  },
  {
   "cell_type": "markdown",
   "metadata": {},
   "source": [
    "**Note:** The few left out quizes in this section are simple and can be easily answered from above formulae, so skipped. "
   ]
  },
  {
   "cell_type": "code",
   "execution_count": null,
   "metadata": {},
   "outputs": [],
   "source": []
  }
 ],
 "metadata": {
  "kernelspec": {
   "display_name": "Python [conda env:Anaconda3]",
   "language": "python",
   "name": "conda-env-Anaconda3-py"
  },
  "language_info": {
   "codemirror_mode": {
    "name": "ipython",
    "version": 3
   },
   "file_extension": ".py",
   "mimetype": "text/x-python",
   "name": "python",
   "nbconvert_exporter": "python",
   "pygments_lexer": "ipython3",
   "version": "3.6.4"
  }
 },
 "nbformat": 4,
 "nbformat_minor": 2
}
