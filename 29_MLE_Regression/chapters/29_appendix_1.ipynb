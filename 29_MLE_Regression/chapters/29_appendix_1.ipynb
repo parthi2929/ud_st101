{
 "cells": [
  {
   "cell_type": "markdown",
   "metadata": {},
   "source": [
    "# $e$ and natural logarithms\n",
    "\n",
    "## The basics of $e$\n",
    "\n",
    "#### Case 1: \n",
    "\n",
    "Suppose we have a function $M(t) = 2^t$ and we are interested in its rate of change $\\dfrac{dM(t)}{dt}$."
   ]
  },
  {
   "cell_type": "code",
   "execution_count": 2,
   "metadata": {
    "ExecuteTime": {
     "end_time": "2018-10-16T10:23:33.652471Z",
     "start_time": "2018-10-16T10:23:33.289872Z"
    },
    "hide_input": true,
    "tags": [
     "to_remove"
    ]
   },
   "outputs": [],
   "source": [
    "%load_ext tikzmagic"
   ]
  },
  {
   "cell_type": "code",
   "execution_count": 9,
   "metadata": {
    "ExecuteTime": {
     "end_time": "2018-10-16T10:27:27.097222Z",
     "start_time": "2018-10-16T10:27:27.093211Z"
    },
    "hide_input": true,
    "tags": [
     "to_remove"
    ]
   },
   "outputs": [],
   "source": [
    "preamble='''\n",
    "    \\pgfmathdeclarefunction{exp2}{1}{%\n",
    "        \\pgfmathparse{2^#1}%\n",
    "}\n",
    "'''"
   ]
  },
  {
   "cell_type": "code",
   "execution_count": 11,
   "metadata": {
    "ExecuteTime": {
     "end_time": "2018-10-16T10:27:55.132362Z",
     "start_time": "2018-10-16T10:27:50.407000Z"
    },
    "hide_input": true,
    "tags": [
     "to_remove"
    ]
   },
   "outputs": [
    {
     "data": {
      "image/png": "[encoded data removed]"
     },
     "metadata": {},
     "output_type": "display_data"
    }
   ],
   "source": [
    "%%tikz -p pgfplots -x $preamble\n",
    "\\begin{axis}[\n",
    "\t\tno markers, \n",
    "\t\tdomain=0:5, \n",
    "\t\tsamples=100,\n",
    "\t\tymin=0,\n",
    "\t\taxis lines*=left, \n",
    "\t\txlabel=$t$,\n",
    "\t\tylabel=$M(t)$,\n",
    "\t\theight=5cm, \n",
    "\t\twidth=12cm,\n",
    "\t\txtick=\\empty, \n",
    "\t\tytick=\\empty,\n",
    "\t\tenlargelimits=false, \n",
    "\t\tclip=false, \n",
    "\t\taxis on top,\n",
    "\t\tgrid = major,\n",
    "\t\taxis lines = middle\n",
    "\t\t]\n",
    "\t\t\n",
    "\t\t\\def\\low{3}\n",
    "\t\t\\def\\hi{3.2}\n",
    "\t\t\n",
    "\t\t\\addplot [draw=none, fill=green!25, domain=\\low:\\hi] {exp2(x)} \\closedcycle;\n",
    "\t\t\\addplot [very thick,cyan!50!black] {exp2(x)};\n",
    "        \n",
    "        \\pgfmathsetmacro\\valueA{exp2(\\low)}\n",
    "        \\pgfmathsetmacro\\valueB{exp2(\\hi)}\n",
    "        \\draw [gray] (axis cs:\\low,0) -- (axis cs:\\low,\\valueA);\n",
    "        \\draw [gray] (axis cs:\\hi,0) -- (axis cs:\\hi,\\valueB);\n",
    "\n",
    "        \\node[below] at (axis cs:\\low, 0)  {$t$};\n",
    "        \\node[below right, xshift=-0.25cm] at (axis cs:\\hi, 0)  {$(t+dt)$};        \n",
    "\n",
    "\t\t\n",
    "\\end{axis}"
   ]
  },
  {
   "cell_type": "markdown",
   "metadata": {},
   "source": [
    "$$\n",
    "\\dfrac{dM(t)}{dt} =  \\lim_{dt \\to 0} \\dfrac{2^{(t+dt)}-2^t}{dt} =  \\lim_{dt \\to 0} \\dfrac{2^t2^{dt} - 2^t}{dt} \n",
    "=  \\lim_{dt \\to 0} \\dfrac{2^t(2^{dt} - 1)}{dt} \\\\\n",
    "\\therefore \\dfrac{d(2^t)}{dt} = \\lim_{dt \\to 0} 2^t\\Big(\\dfrac{2^{dt}-1}{dt}\\Big) \n",
    "$$"
   ]
  },
  {
   "cell_type": "markdown",
   "metadata": {},
   "source": [
    "One could note that, as $dt \\to 0$, the component $\\Big( \\dfrac{2^{dt}-1}{dt} \\Big) \\to 0.6931$ as shown below. "
   ]
  },
  {
   "cell_type": "code",
   "execution_count": 36,
   "metadata": {
    "ExecuteTime": {
     "end_time": "2018-10-16T10:41:15.276758Z",
     "start_time": "2018-10-16T10:41:15.270763Z"
    }
   },
   "outputs": [
    {
     "name": "stdout",
     "output_type": "stream",
     "text": [
      "0.1 0.71773\n",
      "0.01 0.69556\n",
      "0.005 0.69435\n",
      "0.001 0.69339\n",
      "0.0005 0.69327\n",
      "0.0001 0.69317\n"
     ]
    }
   ],
   "source": [
    "dt = [0.1, 0.01, 0.005, 0.001,0.0005, 0.0001]   \n",
    "cl = [print(i, round((2**i-1)/i,5)) for i in dt]"
   ]
  },
  {
   "cell_type": "markdown",
   "metadata": {},
   "source": [
    "So, \n",
    "\n",
    "\\begin{equation}\n",
    "    \\dfrac{d(2^t)}{dt} = \\lim_{dt \\to 0} 2^t\\Big(\\dfrac{2^{dt}-1}{dt}\\Big) = 2^t(0.6931)\n",
    "\\end{equation}"
   ]
  },
  {
   "cell_type": "markdown",
   "metadata": {},
   "source": [
    "#### Case 2:\n",
    "\n",
    "Suppose we have a function $M(t) = 3^t$ and we are interested in its rate of change $\\dfrac{dM(t)}{dt}$."
   ]
  },
  {
   "cell_type": "markdown",
   "metadata": {
    "ExecuteTime": {
     "end_time": "2018-10-16T10:44:40.150518Z",
     "start_time": "2018-10-16T10:44:40.142523Z"
    }
   },
   "source": [
    "$$\n",
    "\\dfrac{dM(t)}{dt} =  \\lim_{dt \\to 0} \\dfrac{3^{(t+dt)}-3^t}{dt} =  \\lim_{dt \\to 0} \\dfrac{3^t2^{dt} - 3^t}{dt} \n",
    "=  \\lim_{dt \\to 0} \\dfrac{3^t(2^{dt} - 1)}{dt} \\\\\n",
    "\\therefore \\dfrac{d(3^t)}{dt} = \\lim_{dt \\to 0} 3^t\\Big(\\dfrac{3^{dt}-1}{dt}\\Big)\n",
    "$$"
   ]
  },
  {
   "cell_type": "markdown",
   "metadata": {},
   "source": [
    "One could note that, as $dt \\to 0$, the component $\\Big( \\dfrac{3^{dt}-1}{dt} \\Big) \\to 1.09867$ as shown below. "
   ]
  },
  {
   "cell_type": "code",
   "execution_count": 38,
   "metadata": {
    "ExecuteTime": {
     "end_time": "2018-10-16T10:45:20.603298Z",
     "start_time": "2018-10-16T10:45:20.599317Z"
    }
   },
   "outputs": [
    {
     "name": "stdout",
     "output_type": "stream",
     "text": [
      "0.1 1.16123\n",
      "0.01 1.10467\n",
      "0.005 1.10164\n",
      "0.001 1.09922\n",
      "0.0005 1.09891\n",
      "0.0001 1.09867\n"
     ]
    }
   ],
   "source": [
    "dt = [0.1, 0.01, 0.005, 0.001,0.0005, 0.0001]   \n",
    "cl = [print(i, round((3**i-1)/i,5)) for i in dt]"
   ]
  },
  {
   "cell_type": "markdown",
   "metadata": {},
   "source": [
    "So, \n",
    "\n",
    "\\begin{equation}\n",
    "    \\dfrac{d(3^t)}{dt} = \\lim_{dt \\to 0} 3^t\\Big(\\dfrac{3^{dt}-1}{dt}\\Big) = 3^t(1.09867)\n",
    "\\end{equation}"
   ]
  },
  {
   "cell_type": "markdown",
   "metadata": {},
   "source": [
    "#### Generalization\n",
    "\n",
    "Similarly  for any $M(t) = a^t$, we could prove, \n",
    "\n",
    "\\begin{equation}\n",
    "    \\dfrac{d(a^t)}{dt} = \\lim_{dt \\to 0} a^t\\Big(\\dfrac{a^{dt}-1}{dt}\\Big) = a^tC \\ \\ \\text{where C is some constant}\n",
    "\\end{equation}"
   ]
  },
  {
   "cell_type": "markdown",
   "metadata": {},
   "source": [
    "#### Wonder\n",
    "\n",
    "Naturally if we wonder, is there any similar $M(t)$ for which the derivative is itself? (In other words, that some constant becomes 1?!). We could solve this as below. \n",
    "\n",
    "We want to find $a$ such that,  \n",
    "$$\n",
    "\\lim_{dt \\to 0} \\Big(\\dfrac{a^{dt}-1}{dt}\\Big) = 1\n",
    "$$\n",
    "\n",
    "Rewriting, \n",
    "$$\n",
    "\\lim_{dt \\to 0} a^{dt} = 1 + dt \\\\\n",
    "\\therefore a = \\lim_{dt \\to 0} (1 + dt)^{1/dt} \\\\\n",
    "$$"
   ]
  },
  {
   "cell_type": "markdown",
   "metadata": {},
   "source": [
    "We can mathematically prove that, $(1+n)^{1/n}$ approaches a constant, but for here, we could simply compute like earlier, what is the value it is approaching.."
   ]
  },
  {
   "cell_type": "code",
   "execution_count": 45,
   "metadata": {
    "ExecuteTime": {
     "end_time": "2018-10-16T11:08:31.470513Z",
     "start_time": "2018-10-16T11:08:31.464532Z"
    }
   },
   "outputs": [
    {
     "name": "stdout",
     "output_type": "stream",
     "text": [
      "0.1 2.59374\n",
      "0.01 2.70481\n",
      "0.005 2.71152\n",
      "0.001 2.71692\n",
      "0.0005 2.7176\n",
      "0.0001 2.71815\n"
     ]
    }
   ],
   "source": [
    "dt = [0.1, 0.01, 0.005, 0.001,0.0005, 0.0001]   \n",
    "cl = [print(i, round((1 + i)**(1/i),5)) for i in dt]"
   ]
  },
  {
   "cell_type": "markdown",
   "metadata": {},
   "source": [
    "$\\therefore$ we do have one constant $2.718$ for which, the derivative of it is itself. That is, "
   ]
  },
  {
   "cell_type": "raw",
   "metadata": {},
   "source": [
    "\\begin{tcolorbox}[colback=green!5,colframe=green!40!black,title=The value of $e$]\n",
    "Let $e$ = 2.71815, then\n",
    "\\begin{equation}\n",
    "    \\dfrac{d(e^t)}{dt} = e^t  \\label{eq:MA01}\n",
    "\\end{equation}\n",
    "\\end{tcolorbox}"
   ]
  },
  {
   "cell_type": "markdown",
   "metadata": {},
   "source": [
    "## Derivative of $e^{ct}$\n",
    "\n",
    "What is $\\dfrac{d(e^{ct})}{dt}$?  This can be solved by chain rule in differential calculus. \n",
    "\n",
    "Let $u = ct$, then by chain rule, \n",
    "\n",
    "$$\n",
    "\\dfrac{d(e^{ct})}{dt} = \\dfrac{d(e^u)}{dt} = \\dfrac{d(e^u)}{du}\\dfrac{du}{dt} = e^u\\dfrac{du}{dt}\n",
    "$$\n",
    "\n",
    "Substituting $u=ct$ back,\n",
    "$$\n",
    "\\dfrac{d(e^{ct})}{dt} =  e^{ct}\\dfrac{d(ct)}{dt} = ce^{ct}\n",
    "$$"
   ]
  },
  {
   "cell_type": "raw",
   "metadata": {},
   "source": [
    "\\begin{tcolorbox}[colback=green!5,colframe=green!40!black,title=The derivative of $e^{ct}$]\n",
    "Let $e$ = 2.71815, then\n",
    "\\begin{equation}\n",
    "    \\dfrac{d(e^{ct})}{dt} = ce^{ct}  \\label{eq:MA02}\n",
    "\\end{equation}\n",
    "\\end{tcolorbox}"
   ]
  },
  {
   "cell_type": "markdown",
   "metadata": {},
   "source": [
    "## Using $e$ for any exponent form\n",
    "\n",
    "A short summary of what we saw earlier.  \n",
    "\n",
    "$$\n",
    "\\begin{aligned}\n",
    "& \\dfrac{d(2^t)}{dt} = (0.6931)2^t \\\\\n",
    "& \\dfrac{d(3^t)}{dt} = (1.0986)3^t \\\\\n",
    "& \\dfrac{d(a^t)}{dt} = (C)a^t , \\ \\ \\ \\ \\text{where $C$ is some constant depending on $a$} \\\\\n",
    "\\end{aligned}\n",
    "$$\n",
    "\n",
    "Let $2 = e^C$. Then\n",
    "\n",
    "$$\n",
    "2^t = e^{Ct}\n",
    "$$\n",
    "\n",
    "Taking derivatives on both sides, \n",
    "$$\n",
    "\\dfrac{d(2^t)}{dt} = \\dfrac{ d(e^{Ct}) }{dt} \\\\\n",
    "\\implies (0.6931)2^t = Ce^{Ct} \\\\\n",
    "\\implies C = 0.6931\n",
    "$$\n",
    "\n",
    "That is, the constant we earlier got, is nothing but the power to which we need to raise $e$ to get the base value $2$. That is, $2 = e^{0.6931}$. We could call this constant as **natural logarithm of 2**, denoted by $ln(2)$  or $log_e(2)$\n",
    "\n",
    "Similarly, let $3 = e^C$. Then\n",
    "\n",
    "$$\n",
    "3^t = e^{Ct}\n",
    "$$\n",
    "\n",
    "Taking derivatives on both sides, \n",
    "$$\n",
    "\\dfrac{d(3^t)}{dt} = \\dfrac{ d(e^{Ct}) }{dt} \\\\\n",
    "\\implies (1.0986)2^t = Ce^{Ct} \\\\\n",
    "\\implies C = 1.0986\n",
    "$$\n",
    "\n",
    "Thus, $3 = e^{1.0986}$. We could call this constant as **natural logarithm of 3**, denoted by $ln(3)$  or $log_e(3)$\n",
    "\n",
    "Summarizing, \n",
    "\n",
    "$$\n",
    "\\begin{aligned}\n",
    "& 2 = e^{ln(2)}, \\ \\ ln(2) = log_e(2) = 0.6931 \\\\\n",
    "& 3 = e^{ln(3)}, \\ \\ ln(3) = log_e(3) = 1.0986 \\\\\n",
    "\\end{aligned}\n",
    "$$"
   ]
  },
  {
   "cell_type": "raw",
   "metadata": {},
   "source": [
    "\\begin{tcolorbox}[colback=green!5,colframe=green!40!black,title=Any number in terms of $e$]\n",
    "Any number could be equated by $e$ to the power of its natural logarithmic value, which is a unique constant that could be derived. \n",
    "\\begin{equation}\n",
    "    a = e^{ln(a)}, \\ \\ ln(a) = log_e(a)  \\label{eq:MA03}\n",
    "\\end{equation}\n",
    "\\end{tcolorbox}"
   ]
  },
  {
   "cell_type": "markdown",
   "metadata": {},
   "source": [
    "## Multiplication and Division simplified\n",
    "\n",
    "Suppose we have a function $L(p,q) = p^yq^z$\n",
    "\n",
    "We could make the multiplication of such exponents in to simpler form of addition of their natural logarithms as below. \n",
    "\n",
    "Let $p = e^{C_1}$ and $q = e^{C_2}$, then we already have seen, $C_1 = ln(p), C_2 = ln(q)$. \n",
    "\n",
    "$$\n",
    "\\therefore p^yq^z = e^{C_1y}e^{C_2}z = e^{C_1y + C_2z} = e^{ln(p)y + ln(q)z}\n",
    "$$\n",
    "\n",
    "If $L = e^{ln(L)}$ similarly, then we could write, \n",
    "\n",
    "$$\n",
    "\\begin{aligned}\n",
    "L = p^yq^z \\\\\n",
    "e^{ln(L)} = e^{ln(p)y + ln(q)z} \\\\\n",
    "\\implies ln(L) = yln(p) + zln(q) \\ \\ \\ \\ \\text{or} \\\\\n",
    "log_e(L) = ylog_e(p) + zlog_e(q)\n",
    "\\end{aligned}\n",
    "$$\n",
    "\n",
    "If  $L(p,q) = \\dfrac{p^y}{q^z}$\n",
    "\n",
    "$$\n",
    "\\dfrac{p^y}{q^z} = \\dfrac{e^{C_1y}}{e^{C_2z}} = e^{C_1y - C_2z} = e^{ln(p)y - ln(q)z}\n",
    "$$\n",
    "\n",
    "If $L = e^{ln(L)}$ similarly, then we could write, \n",
    "\n",
    "$$\n",
    "\\begin{aligned}\n",
    "L = \\dfrac{p^y}{q^z} \\\\\n",
    "e^{ln(L)} = e^{ln(p)y - ln(q)z} \\\\\n",
    "\\implies ln(L) = yln(p) - zln(q) \\ \\ \\ \\ \\text{or} \\\\\n",
    "log_e(L) = ylog_e(p) - zlog_e(q)\n",
    "\\end{aligned}\n",
    "$$\n",
    "\n",
    "Thus we have simplified multiplication and division to addition and subtraction provided we know the equivalent natural logarithms of the values involved. "
   ]
  },
  {
   "cell_type": "raw",
   "metadata": {},
   "source": [
    "\\begin{tcolorbox}[colback=green!5,colframe=green!40!black,title=Multiplication and Divison Simplification]\n",
    "\\begin{itemize}\n",
    "\\item If $L(p,q) = p^yq^z$, then \n",
    "\\begin{equation}\n",
    "    log_e(L) = ylog_e(p) + zlog_e(q)  \\label{eq:MA04}\n",
    "\\end{equation}\n",
    "\\item If $L(p,q) = \\dfrac{p^y}{q^z}$, then \n",
    "\\begin{equation}\n",
    "    log_e(L) = ylog_e(p) - zlog_e(q)  \\label{eq:MA05}\n",
    "\\end{equation}\n",
    "\\end{itemize}\n",
    "\\end{tcolorbox}"
   ]
  },
  {
   "cell_type": "markdown",
   "metadata": {},
   "source": [
    "## Derivatives of $ln$\n",
    "\n",
    "We only see few derivatives that could be useful in MLE.\n",
    "\n",
    "Q1: What is the derivative of $\\dfrac{d(ln(x))}{dx}$?  \n",
    "\n",
    "Let $y = ln(x) = log_ex$. This means, $e^y = x$\n",
    "\n",
    "Differentiating that, \n",
    "\n",
    "$$\n",
    "e^y = x \\\\\n",
    "\\dfrac{d(e^y)}{dx} = \\dfrac{dx}{dx} \\\\\n",
    "e^y\\dfrac{dy}{dx} = 1 \\\\\n",
    "\\dfrac{dy}{dx} = \\dfrac{1}{e^y} \\\\\n",
    "\\therefore \\dfrac{d(ln(x))}{dx} = \\dfrac{1}{x}\n",
    "$$"
   ]
  },
  {
   "cell_type": "markdown",
   "metadata": {},
   "source": [
    "Q2: What is the derivative of $\\dfrac{d(ln(1 - x))}{dx}$?  \n",
    "\n",
    "Let $y = ln(1 - x) = log_e(1-x)$. This means, $e^y = 1 - x$\n",
    "\n",
    "Differentiating that,\n",
    "\n",
    "$$\n",
    "e^y = 1 - x \\\\\n",
    "\\dfrac{d(e^y)}{dx} = \\dfrac{d(1-x)}{dx} \\\\\n",
    "e^y\\dfrac{dy}{dx} = -1 \\\\\n",
    "\\dfrac{dy}{dx} = \\dfrac{-1}{e^y} = \\dfrac{-1}{1 - x} \\\\\n",
    "\\therefore \\dfrac{d(ln(1-x))}{dx} = \\dfrac{-1}{1 - x}\n",
    "$$"
   ]
  },
  {
   "cell_type": "markdown",
   "metadata": {},
   "source": [
    "Q3: What is the derivative of $\\dfrac{d(ln(cx))}{dx}$?  \n",
    "\n",
    "Let $u=cx$, $y = ln(u)$. This means, $e^y = u$  \n",
    "\n",
    "Differentiating that,  \n",
    "\n",
    "$$\n",
    "\\begin{aligned}\n",
    "e^y = u \\\\\n",
    "\\dfrac{d(e^y)}{dx} = \\dfrac{du}{dx} = \\dfrac{d(2\\pi x)}{dx} = 2\\pi \\\\\n",
    "e^y\\dfrac{dy}{dx} = 2\\pi \\\\\n",
    "\\dfrac{dy}{dx} = \\dfrac{2\\pi}{e^y} = \\dfrac{2\\pi}{u} = \\dfrac{2\\pi}{2\\pi x} = \\dfrac{1}{x}\n",
    "\\end{aligned}\n",
    "$$"
   ]
  },
  {
   "cell_type": "raw",
   "metadata": {},
   "source": [
    "\\begin{tcolorbox}[colback=green!5,colframe=green!40!black,title=Derivatives of $ln$]\n",
    "\\begin{itemize}\n",
    "\\item \n",
    "\\begin{equation}\n",
    "    \\dfrac{d(ln(x))}{dx} = \\dfrac{1}{x} \\label{eq:MA06}\n",
    "\\end{equation}\n",
    "\\item \n",
    "\\begin{equation}\n",
    "    \\dfrac{d(ln(1-x))}{dx} = \\dfrac{-1}{1 - x} \\label{eq:MA07}\n",
    "\\end{equation}\n",
    "\\item \n",
    "\\begin{equation}\n",
    "    \\dfrac{d(ln(cx))}{dx} = \\dfrac{1}{x} \\label{eq:MA08}\n",
    "\\end{equation}\n",
    "\\end{itemize}\n",
    "\\end{tcolorbox}"
   ]
  }
 ],
 "metadata": {
  "kernelspec": {
   "display_name": "Python [conda env:Anaconda3]",
   "language": "python",
   "name": "conda-env-Anaconda3-py"
  },
  "language_info": {
   "codemirror_mode": {
    "name": "ipython",
    "version": 3
   },
   "file_extension": ".py",
   "mimetype": "text/x-python",
   "name": "python",
   "nbconvert_exporter": "python",
   "pygments_lexer": "ipython3",
   "version": "3.6.4"
  },
  "toc": {
   "base_numbering": 1,
   "nav_menu": {},
   "number_sections": true,
   "sideBar": true,
   "skip_h1_title": false,
   "title_cell": "Table of Contents",
   "title_sidebar": "Contents",
   "toc_cell": false,
   "toc_position": {},
   "toc_section_display": true,
   "toc_window_display": false
  }
 },
 "nbformat": 4,
 "nbformat_minor": 2
}
